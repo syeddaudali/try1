{
 "cells": [
  {
   "cell_type": "code",
   "execution_count": 4,
   "id": "1e0c71db",
   "metadata": {},
   "outputs": [
    {
     "name": "stdout",
     "output_type": "stream",
     "text": [
      "You have 5 seconds to focus the WhatsApp chat window...\n"
     ]
    }
   ],
   "source": [
    "import pyautogui\n",
    "import time\n",
    "\n",
    "# Customize your message and count\n",
    "message = \"Daud is King\"\n",
    "count = 10\n",
    "\n",
    "# Wait time to switch to WhatsApp chat window\n",
    "print(\"You have 5 seconds to focus the WhatsApp chat window...\")\n",
    "time.sleep(5)\n",
    "\n",
    "# Send the message multiple times\n",
    "for _ in range(count):\n",
    "    pyautogui.typewrite(message)\n",
    "    pyautogui.press(\"enter\")\n"
   ]
  }
 ],
 "metadata": {
  "kernelspec": {
   "display_name": "myenv",
   "language": "python",
   "name": "python3"
  },
  "language_info": {
   "codemirror_mode": {
    "name": "ipython",
    "version": 3
   },
   "file_extension": ".py",
   "mimetype": "text/x-python",
   "name": "python",
   "nbconvert_exporter": "python",
   "pygments_lexer": "ipython3",
   "version": "3.9.21"
  }
 },
 "nbformat": 4,
 "nbformat_minor": 5
}
